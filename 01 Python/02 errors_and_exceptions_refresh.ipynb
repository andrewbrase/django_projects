{
 "cells": [
  {
   "cell_type": "code",
   "execution_count": null,
   "metadata": {},
   "outputs": [],
   "source": [
    "# we can use these keywords:\n",
    "\n",
    "# try\n",
    "# except\n",
    "# finally\n",
    "\n",
    "# to dictate our code logic in case of an error\n",
    "\n",
    "# to show how this works we will be opening files, one way to open files is to use\n",
    "# the open() function \n",
    "# open(\"myfile.txt\",\"r\") "
   ]
  },
  {
   "cell_type": "code",
   "execution_count": 1,
   "metadata": {},
   "outputs": [
    {
     "ename": "SyntaxError",
     "evalue": "unterminated string literal (detected at line 1) (3574047905.py, line 1)",
     "output_type": "error",
     "traceback": [
      "\u001b[1;36m  Input \u001b[1;32mIn [1]\u001b[1;36m\u001b[0m\n\u001b[1;33m    print('hello)\u001b[0m\n\u001b[1;37m          ^\u001b[0m\n\u001b[1;31mSyntaxError\u001b[0m\u001b[1;31m:\u001b[0m unterminated string literal (detected at line 1)\n"
     ]
    }
   ],
   "source": [
    "print('hello)"
   ]
  },
  {
   "cell_type": "code",
   "execution_count": 3,
   "metadata": {},
   "outputs": [
    {
     "ename": "NameError",
     "evalue": "name 'mylist' is not defined",
     "output_type": "error",
     "traceback": [
      "\u001b[1;31m---------------------------------------------------------------------------\u001b[0m",
      "\u001b[1;31mNameError\u001b[0m                                 Traceback (most recent call last)",
      "\u001b[1;32mc:\\Users\\brasea\\Desktop\\Workspace\\Back_end_web_development\\01 Python and Django\\02 errors_and_exceptions_refresh.ipynb Cell 3\u001b[0m in \u001b[0;36m<cell line: 2>\u001b[1;34m()\u001b[0m\n\u001b[0;32m      <a href='vscode-notebook-cell:/c%3A/Users/brasea/Desktop/Workspace/Back_end_web_development/01%20Python%20and%20Django/02%20errors_and_exceptions_refresh.ipynb#ch0000002?line=0'>1</a>\u001b[0m mylisthere\u001b[39m=\u001b[39m [\u001b[39m1\u001b[39m,\u001b[39m2\u001b[39m,\u001b[39m3\u001b[39m]\n\u001b[1;32m----> <a href='vscode-notebook-cell:/c%3A/Users/brasea/Desktop/Workspace/Back_end_web_development/01%20Python%20and%20Django/02%20errors_and_exceptions_refresh.ipynb#ch0000002?line=1'>2</a>\u001b[0m \u001b[39mprint\u001b[39m(mylist)\n",
      "\u001b[1;31mNameError\u001b[0m: name 'mylist' is not defined"
     ]
    }
   ],
   "source": [
    "mylisthere= [1,2,3]\n",
    "print(mylist)"
   ]
  },
  {
   "cell_type": "code",
   "execution_count": 7,
   "metadata": {},
   "outputs": [
    {
     "name": "stdout",
     "output_type": "stream",
     "text": [
      "Success\n"
     ]
    }
   ],
   "source": [
    "# try\n",
    "# except\n",
    "# finally\n",
    "\n",
    "# try:\n",
    "#     do your operation here\n",
    "# except exception I:\n",
    "#     if there is exception I, then execute this block\n",
    "# except Exception II:\n",
    "#     if there is exception II, then execute this block\n",
    "#     else:\n",
    "#         if there is no exception then execute this block\n",
    "\n",
    "try:\n",
    "    f = open('02 simple.txt','w')\n",
    "    f.write('test write to simple text')\n",
    "except IOError:\n",
    "    print(\"ERROR: could not find file or read data\")\n",
    "    f.close()\n",
    "else:\n",
    "    print('Success')\n",
    "    f.close()"
   ]
  },
  {
   "cell_type": "code",
   "execution_count": 11,
   "metadata": {},
   "outputs": [
    {
     "name": "stdout",
     "output_type": "stream",
     "text": [
      "ERROR: could not find file or read data\n",
      "finally always works\n"
     ]
    }
   ],
   "source": [
    "try:\n",
    "    f = open('02 simple.txt','r')\n",
    "    # opening a file with read only permissions\n",
    "    f.write('test write to simple text')\n",
    "    # except will look for a specific error and be able to output\n",
    "    # something else and continue going\n",
    "    # you don't need to know the error code, you just need except\n",
    "except:\n",
    "    print(\"ERROR: could not find file or read data\")\n",
    "    f.close()\n",
    "else:\n",
    "    print('Success')\n",
    "    f.close()\n",
    "finally:\n",
    "    print('finally always works')"
   ]
  }
 ],
 "metadata": {
  "kernelspec": {
   "display_name": "Python 3.10.5 64-bit (windows store)",
   "language": "python",
   "name": "python3"
  },
  "language_info": {
   "codemirror_mode": {
    "name": "ipython",
    "version": 3
   },
   "file_extension": ".py",
   "mimetype": "text/x-python",
   "name": "python",
   "nbconvert_exporter": "python",
   "pygments_lexer": "ipython3",
   "version": "3.10.5"
  },
  "orig_nbformat": 4,
  "vscode": {
   "interpreter": {
    "hash": "dd239d5c88ed0fbbea2f22807422df04200bb900720e85b0ada3495c01ab65a0"
   }
  }
 },
 "nbformat": 4,
 "nbformat_minor": 2
}
