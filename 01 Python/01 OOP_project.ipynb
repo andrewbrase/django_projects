{
 "cells": [
  {
   "cell_type": "code",
   "execution_count": 52,
   "metadata": {},
   "outputs": [
    {
     "name": "stdout",
     "output_type": "stream",
     "text": [
      "welcome to the coffee shop \n",
      " Menu : \n",
      " coffee - $5 \n",
      " cake - $2 \n",
      " breakfast sandwich - $5 \n",
      " brand cup - $14 \n",
      "\n",
      "you can afford these items : \n",
      "\n",
      "coffee\n",
      "cake\n",
      "breakfast sandwich\n",
      "brand cup\n",
      "\n",
      " your balance is : $32\n",
      "BRAND CUP has been purchased \n",
      "\n",
      "balance is now $18\n",
      "\n",
      " your balance is : $18\n",
      "BRAND CUP has been purchased \n",
      "\n",
      "balance is now $4\n",
      "\n",
      " your balance is : $4\n",
      "sorry that is not available, please try again\n",
      "\n",
      " your balance is : $4\n",
      "CAKE has been purchased \n",
      "\n",
      "balance is now $2\n",
      "\n",
      " your balance is : $2\n",
      "sorry that is not available, please try again\n",
      "thank you for visiting the coffee shop\n"
     ]
    }
   ],
   "source": [
    "class Coffee_shop():\n",
    "\n",
    "    store_items = {\n",
    "        \"COFFEE\" : 5,\n",
    "        \"CAKE\" : 2,\n",
    "        \"BREAKFAST SANDWICH\" : 5,\n",
    "        \"BRAND CUP\" : 14\n",
    "    }\n",
    "    \n",
    "    def __init__(self,balance):\n",
    "        self.balance = balance\n",
    "\n",
    "    def __str__(self):\n",
    "        return(\"welcome to the coffee shop \\n Menu : \\n coffee - $5 \\n cake - $2 \\n breakfast sandwich - $5 \\n brand cup - $14 \\n\")\n",
    "\n",
    "    def afford(self):\n",
    "        self.afford_items = []\n",
    "        for key,value in Coffee_shop.store_items.items():\n",
    "            if value <= self.balance:\n",
    "                self.afford_items.append(key.upper())\n",
    "        print('you can afford these items : \\n')\n",
    "        for item in self.afford_items:\n",
    "            print(item.lower())\n",
    "\n",
    "    def giftcard(self,gift_am):\n",
    "        self.balance += gift_am\n",
    "\n",
    "    def purchase(self):\n",
    "        balance_on_hand = self.balance\n",
    "        on = True\n",
    "        while(on):\n",
    "            print(f'\\n your balance is : ${balance_on_hand}')\n",
    "            choice = input(\"would you like to purchase an item? Y or N\").upper()\n",
    "            if choice == \"Y\":\n",
    "                itemselect = input(\"which item would you like to purchase?\").upper()\n",
    "                if itemselect in self.afford_items and balance_on_hand > Coffee_shop.store_items[itemselect]:\n",
    "                    print(f\"{itemselect} has been purchased \\n\")\n",
    "                    cost = (Coffee_shop.store_items[itemselect])\n",
    "                    balance_on_hand = balance_on_hand - cost\n",
    "                    print(f'balance is now ${balance_on_hand}')\n",
    "                else:\n",
    "                    print('sorry that is not available, please try again')\n",
    "\n",
    "                keep = input(\"do you want to stay in the coffee shop? Y or N\").upper()\n",
    "                if keep != \"Y\":\n",
    "                    break\n",
    "\n",
    "            if choice != \"Y\":\n",
    "                break\n",
    "        \n",
    "        print('thank you for visiting the coffee shop')  \n",
    "\n",
    "c = Coffee_shop(12)\n",
    "\n",
    "print(c)\n",
    "c.giftcard(20)\n",
    "c.afford()\n",
    "c.purchase()"
   ]
  }
 ],
 "metadata": {
  "kernelspec": {
   "display_name": "Python 3.10.5 64-bit (windows store)",
   "language": "python",
   "name": "python3"
  },
  "language_info": {
   "codemirror_mode": {
    "name": "ipython",
    "version": 3
   },
   "file_extension": ".py",
   "mimetype": "text/x-python",
   "name": "python",
   "nbconvert_exporter": "python",
   "pygments_lexer": "ipython3",
   "version": "3.10.5"
  },
  "orig_nbformat": 4,
  "vscode": {
   "interpreter": {
    "hash": "dd239d5c88ed0fbbea2f22807422df04200bb900720e85b0ada3495c01ab65a0"
   }
  }
 },
 "nbformat": 4,
 "nbformat_minor": 2
}
