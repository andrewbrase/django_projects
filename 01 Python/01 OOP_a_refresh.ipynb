{
 "cells": [
  {
   "cell_type": "code",
   "execution_count": 1,
   "metadata": {},
   "outputs": [],
   "source": [
    "# class is a blueprint that defines the nature of an object \n",
    "# instances can be created from a class - object\n",
    "\n",
    "# functions are lowercase, classes are uppercase\n",
    "class Sample():\n",
    "    pass"
   ]
  },
  {
   "cell_type": "code",
   "execution_count": 3,
   "metadata": {},
   "outputs": [
    {
     "name": "stdout",
     "output_type": "stream",
     "text": [
      "<class '__main__.Sample'>\n"
     ]
    }
   ],
   "source": [
    "x = Sample()\n",
    "print(type(x))"
   ]
  },
  {
   "cell_type": "code",
   "execution_count": null,
   "metadata": {},
   "outputs": [],
   "source": [
    "# classes consist of attributes and methods\n",
    "# attributes - characteristics of an object\n",
    "# methods - operations that can be performed on the object"
   ]
  },
  {
   "cell_type": "code",
   "execution_count": 8,
   "metadata": {},
   "outputs": [
    {
     "name": "stdout",
     "output_type": "stream",
     "text": [
      "lab\n",
      "Huskie\n"
     ]
    }
   ],
   "source": [
    "class Dog():\n",
    "    # initialization method\n",
    "    # the self keyword refers to the class object\n",
    "    def __init__(self,breed):\n",
    "        self.breed = breed\n",
    "\n",
    "mydog = Dog(breed=\"lab\")\n",
    "otherdog = Dog(breed=\"Huskie\")\n",
    "\n",
    "print(mydog.breed)\n",
    "print(otherdog.breed)"
   ]
  },
  {
   "cell_type": "code",
   "execution_count": 11,
   "metadata": {},
   "outputs": [
    {
     "name": "stdout",
     "output_type": "stream",
     "text": [
      "lab\n",
      "10\n",
      "howie\n"
     ]
    }
   ],
   "source": [
    "class Dog():\n",
    "    # initialization method\n",
    "    # the self keyword refers to the class object\n",
    "    def __init__(self,breed,age,name):\n",
    "        self.breed = breed\n",
    "        self.age = age\n",
    "        self.name = name\n",
    "\n",
    "# these have to be entered in the correct order or they will be assigned incorrectly,\n",
    "# either that or add the = sign to it = \n",
    "mydog = Dog(breed=\"lab\",name=\"howie\",age=10)\n",
    "\n",
    "print(mydog.breed)\n",
    "print(mydog.age)\n",
    "print(mydog.name)"
   ]
  },
  {
   "cell_type": "code",
   "execution_count": 14,
   "metadata": {},
   "outputs": [
    {
     "name": "stdout",
     "output_type": "stream",
     "text": [
      "Bobtail\n",
      "bob\n",
      "mammal\n",
      "mammal\n"
     ]
    }
   ],
   "source": [
    "# class object attributes are the same for any instance of the class\n",
    "\n",
    "class Cat():\n",
    "    # class object attribute\n",
    "    # just for ex.\n",
    "    species = 'mammal'\n",
    "\n",
    "    def __init__(self,breed,name):\n",
    "        self.breed = breed\n",
    "        self.name = name\n",
    "\n",
    "mycat = Cat('Bobtail','bob')\n",
    "othercat = Cat('Shorthair','stan')\n",
    "print(mycat.breed)\n",
    "print(mycat.name)\n",
    "print(mycat.species)\n",
    "\n",
    "print(othercat.species)"
   ]
  },
  {
   "cell_type": "code",
   "execution_count": 20,
   "metadata": {},
   "outputs": [
    {
     "name": "stdout",
     "output_type": "stream",
     "text": [
      "78.5\n",
      "31400.0\n"
     ]
    }
   ],
   "source": [
    "# methods are functions defined within the body of the class obj\n",
    "# they can perform actions with the attributes of the object\n",
    "\n",
    "class Circle():\n",
    "\n",
    "    # class obj attribute\n",
    "    pi = 3.14\n",
    "\n",
    "    # if radius is not provided a default will be 1\n",
    "    def __init__(self,radius=1):\n",
    "        self.radius = radius\n",
    "    \n",
    "    # method - function that is defined within the body of a class\n",
    "    def area(self):\n",
    "        # need the self. before attributes & Circle. before class object attribute\n",
    "        return self.radius * self.radius * Circle.pi\n",
    "\n",
    "    def set_radius(self,new_radius):\n",
    "        self.radius = new_radius\n",
    "\n",
    "myc = Circle(5)\n",
    "\n",
    "print(myc.area())\n",
    "myc.set_radius(100)\n",
    "print(myc.area())"
   ]
  },
  {
   "cell_type": "code",
   "execution_count": 4,
   "metadata": {},
   "outputs": [
    {
     "name": "stdout",
     "output_type": "stream",
     "text": [
      "animal created\n",
      "animal\n",
      "eating\n",
      "\n",
      "\n",
      "Dog created\n",
      "animal\n",
      "dog is eating\n",
      "woof\n",
      "\n",
      "\n",
      "the dog class inherited the whoami and eat methods from animal class\n"
     ]
    }
   ],
   "source": [
    "# inheritance - a way to form new classes using older classes that have already been defined\n",
    "\n",
    "class Animal():\n",
    "    def __init__(self):\n",
    "        print('animal created')\n",
    "\n",
    "    def whoAmI(self):\n",
    "        print('animal')\n",
    "    \n",
    "    def eat(self):\n",
    "        print('eating')\n",
    "\n",
    "my_an = Animal()\n",
    "my_an.whoAmI()\n",
    "my_an.eat()\n",
    "\n",
    "print('\\n')\n",
    "# new class Dog\n",
    "class Dog(Animal):\n",
    "\n",
    "    def __init__(self):\n",
    "        # Animal.__init__(self)\n",
    "        # this would add 'animal created'\n",
    "        print(\"Dog created\")\n",
    "    \n",
    "    def bark(self):\n",
    "        print('woof')\n",
    "\n",
    "    # eat can be overwritten\n",
    "    def eat(self):\n",
    "        print('dog is eating')\n",
    "    \n",
    "my_dog = Dog()\n",
    "my_dog.whoAmI()\n",
    "my_dog.eat()\n",
    "my_dog.bark()\n",
    "\n",
    "print('\\n')\n",
    "print('the dog class inherited the whoami and eat methods from animal class')"
   ]
  },
  {
   "cell_type": "code",
   "execution_count": 12,
   "metadata": {},
   "outputs": [
    {
     "name": "stdout",
     "output_type": "stream",
     "text": [
      " book title: python book \n",
      " book author: jose \n",
      " book pages: 200\n",
      "200\n"
     ]
    }
   ],
   "source": [
    "# special methods - allow you to perform special operations \n",
    "# these methods are not called directly but they are called by specific syntax\n",
    "\n",
    "class Book():\n",
    "    def __init__(self,title,author,pages):\n",
    "        self.title = title\n",
    "        self.author = author\n",
    "        self.pages = pages\n",
    "\n",
    "    # __str__ is what will be called when print\n",
    "    def __str__(self):\n",
    "        return f\" book title: {self.title} \\n book author: {self.author} \\n book pages: {self.pages}\"\n",
    "        # .format method -\n",
    "        # return \"book title: {} book author {} book pages {}\".format(self.title,self.author,self.pages)\"\n",
    "\n",
    "    # another special method is the length special method\n",
    "    # when print(len(b)) --> object of type book has no length\n",
    "    # you need to add a length\n",
    "    def __len__(self):\n",
    "        return self.pages\n",
    "\n",
    "    # delete\n",
    "    def __del__(self):\n",
    "        print('a book is destroyed')\n",
    "\n",
    "b = Book(\"python book\",'jose',200)\n",
    "print(b)\n",
    "# when call print on object, it looks for the objects string representation\n",
    "\n",
    "print(len(b))\n",
    "# del b"
   ]
  }
 ],
 "metadata": {
  "kernelspec": {
   "display_name": "Python 3.10.5 64-bit",
   "language": "python",
   "name": "python3"
  },
  "language_info": {
   "codemirror_mode": {
    "name": "ipython",
    "version": 3
   },
   "file_extension": ".py",
   "mimetype": "text/x-python",
   "name": "python",
   "nbconvert_exporter": "python",
   "pygments_lexer": "ipython3",
   "version": "3.10.5"
  },
  "orig_nbformat": 4,
  "vscode": {
   "interpreter": {
    "hash": "db3f7ae161cd4a8038805fb8f73197f041ad9e3b03de37e3c15b7f35607282d2"
   }
  }
 },
 "nbformat": 4,
 "nbformat_minor": 2
}
